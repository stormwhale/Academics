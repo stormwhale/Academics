{
 "cells": [
  {
   "cell_type": "markdown",
   "id": "2e15e4ea",
   "metadata": {},
   "source": [
    "Part 1 question: Now that we have covered basic techniques for recommender systems, choose one commercial recommender and describe how you think it works (content-based, collaborative filtering, etc). Does the technique deliver a good experience or are the recommendations off-target?\n",
    "\n",
    "You may also choose one of the three non-personalized recommenders (below) we went over in class and describe the technique and which of the three you prefer to use."
   ]
  },
  {
   "cell_type": "markdown",
   "id": "aac3c56a",
   "metadata": {},
   "source": [
    "Part 1:\n",
    "\n",
    "YouTube's recommender system is largely based on collaborative filtering, where videos recommendations are generated based on group preferences. Later, the system went through many more layers of refinement such as monitoring the watch time, or adding classification to filter out borderline-content from being recommended.\n",
    "\n",
    "While YouTube has a fair amount of recommendation refinements, i personally find its recommendations a 'hit-or-miss' largely because it still favors largely in recommending similar type of video that i favor rather than recommending new type of contents. Perhaps, a little bit more randomness into the recommender system will create more flavors in content discoveries.\n"
   ]
  },
  {
   "cell_type": "markdown",
   "id": "ef7ee7e9",
   "metadata": {},
   "source": [
    "Part 2 question: Attacks on Recommender System\n",
    "\n",
    "Read the article below and consider how to handle attacks on recommender systems. Can you think of a similar example where a collective effort to alter the workings of content recommendations have been successful? How would you design a system to prevent this kind of abuse?"
   ]
  },
  {
   "cell_type": "markdown",
   "id": "a7f9e11f",
   "metadata": {},
   "source": [
    "Part 2:\n",
    "\n",
    "As recommender systems are susceptible to coordinated attacks, there are already some defensive measures that i have seen being implemented by big companies such as Amazon. For example, these techniques are verified purchase reviews, reviews/rating has a time-delay between purchase to when reviews can become available to enter, or classification system to filter and flag accounts that leave reviews that are too brief or short. I would imagine a weighted system to calculate the importance of reviews/ratings can also be implemented to see whether certain malicious reviews can be counted towards the final rating score."
   ]
  }
 ],
 "metadata": {
  "language_info": {
   "name": "python"
  }
 },
 "nbformat": 4,
 "nbformat_minor": 5
}
